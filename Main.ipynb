{
  "nbformat": 4,
  "nbformat_minor": 0,
  "metadata": {
    "colab": {
      "name": "Final.ipynb",
      "provenance": [],
      "collapsed_sections": [],
      "include_colab_link": true
    },
    "interpreter": {
      "hash": "89135fe1383417b5e51a2b21c27d516d0bd22db4bca7428e21c14e6e746241c1"
    },
    "kernelspec": {
      "display_name": "Python 3.9.7 64-bit",
      "language": "python",
      "name": "python3"
    },
    "language_info": {
      "codemirror_mode": {
        "name": "ipython",
        "version": 3
      },
      "file_extension": ".py",
      "mimetype": "text/x-python",
      "name": "python",
      "nbconvert_exporter": "python",
      "pygments_lexer": "ipython3",
      "version": "3.9.7"
    }
  },
  "cells": [
    {
      "cell_type": "markdown",
      "metadata": {
        "id": "view-in-github",
        "colab_type": "text"
      },
      "source": [
        "<a href=\"https://colab.research.google.com/github/Deadrohan19/Student_Managment_System/blob/main/Main.ipynb\" target=\"_parent\"><img src=\"https://colab.research.google.com/assets/colab-badge.svg\" alt=\"Open In Colab\"/></a>"
      ]
    },
    {
      "cell_type": "code",
      "metadata": {
        "id": "9fObmpKFC3V-"
      },
      "source": [
        "import pandas as pd\n",
        "import matplotlib.pyplot as plt\n",
        "from csv import writer"
      ],
      "execution_count": null,
      "outputs": []
    },
    {
      "cell_type": "code",
      "metadata": {
        "id": "gTqvG4JaC3WA"
      },
      "source": [
        "pd.set_option('display.max_columns', None)\n",
        "pd.set_option(\"display.max_rows\", None)"
      ],
      "execution_count": null,
      "outputs": []
    },
    {
      "cell_type": "code",
      "metadata": {
        "id": "t9IiddmRC3WA"
      },
      "source": [
        "url = \"https://raw.githubusercontent.com/Deadrohan19/Student_Managment_System/main/CU.csv\"\n",
        "df = pd.read_csv(url)"
      ],
      "execution_count": null,
      "outputs": []
    },
    {
      "cell_type": "code",
      "metadata": {
        "id": "fQJ2GJyGC3WB"
      },
      "source": [
        "def intro(): \n",
        "    print(\" \\t || CU Student Management System ||\")\n",
        "    print(\"\\n\\t1.Search\\t2.Search by condition\\n\\t3.Graph\\t\\t4.Add information\\n\\t5.View All\")"
      ],
      "execution_count": null,
      "outputs": []
    },
    {
      "cell_type": "code",
      "metadata": {
        "id": "L2RD2vSRC3WC"
      },
      "source": [
        "def search():\n",
        "    print(\"Search by: \")\n",
        "    print(\"\\t1.UID\\t\\t2.Branch\\n\\t3.Year\\t\\t4.Hostel\\n\\t5.Gender\\t6.Religion\")\n",
        "    x = int(input(\"Choice: \"))\n",
        "    if(x==1):\n",
        "        y=input(\"Enter UID: \")\n",
        "        print(df.loc[df['UID']==y.upper()])\n",
        "    elif(x==2):\n",
        "        y=input(\"Enter Branch: \")\n",
        "        print(df.loc[df['BRANCH']==y.upper()])\n",
        "    elif(x==3):\n",
        "        y=input(\"Enter Year: \")\n",
        "        print(df.loc[df['YEAR']==y.upper()])\n",
        "    elif(x==4):\n",
        "        y=input(\"Enter Hostel: \")\n",
        "        print(df.loc[df['HOSTEL']==y.title()])\n",
        "    elif(x==5):\n",
        "        y = input(\"Enter Gender: \")\n",
        "        print(df.loc[df['GENDER']==y.upper()])\n",
        "    elif(x==6):\n",
        "        y = input(\"Enter Religion: \")\n",
        "        print(df.loc[df['RELIGION']==y.upper()])\n",
        "    else:\n",
        "        print(\"Invalid Choice!!....Please Choose again: \")\n",
        "        search()"
      ],
      "execution_count": null,
      "outputs": []
    },
    {
      "cell_type": "code",
      "metadata": {
        "id": "FVWiJbCpC3WC"
      },
      "source": [
        "def search_condi():\n",
        "    d = {1:\"BRANCH\", 2:\"SEMESTER\", 3:\"HOSTEL\", 4:\"RELIGION\", 5:\"GENDER\"}\n",
        "    print(\"Select the condition:\")\n",
        "    print(\"\\t1.Branch\\t2.Semester\\n\\t3.HosteL\\t4.Religion\\n\\t5.Gender\")\n",
        "    print(\"How many filters do you want to use?\")\n",
        "    choice = int(input(\"Your choice: \"))\n",
        "    print(\"Select between (1-5)\")\n",
        "    if(choice==2):\n",
        "\n",
        "        a =int(input(\"First condition: \"))\n",
        "        p = input(f\"Which {d[a]}: \")\n",
        "        b = int(input(\"Second condition: \"))\n",
        "        q= input(f\"Which {d[b]}: \")\n",
        "        print(df.loc[(df[d[a]]==p) & (df[d[b]]==q)])\n",
        "    elif(choice==3):\n",
        "        a =int(input(\"First condition: \"))\n",
        "        p = input(f\"Which {d[a]}: \")\n",
        "        b = int(input(\"Second condition: \"))\n",
        "        q = input(f\"Which {d[b]}: \")\n",
        "        c = int(input(\"Third condition: \"))\n",
        "        r = input(f\"Which {d[c]}: \")\n",
        "        print(df.loc[(df[d[a]]==p) & (df[d[b]]==q) & (df[d[c]]==r)])\n",
        "    elif(choice==4):\n",
        "        a =int(input(\"First condition: \"))\n",
        "        p = input(f\"Which {d[a]}: \")\n",
        "        b = int(input(\"Second condition: \"))\n",
        "        q = input(f\"Which {d[b]}: \")\n",
        "        c = int(input(\"Third condition: \"))\n",
        "        r = input(f\"Which {d[c]}: \")\n",
        "        d = int(input(\"Fourth condition: \"))\n",
        "        s = input(f\"Which {d[d]}: \")\n",
        "        print(df.loc[(df[d[a]]==p) & (df[d[b]]==q) & (df[d[c]]==r) & (df[d[d]]==s)])\n",
        "    elif(choice==5):\n",
        "        a =int(input(\"First condition: \"))\n",
        "        p = input(f\"Which {d[a]}: \")\n",
        "        b = int(input(\"Second condition: \"))\n",
        "        q = input(f\"Which {d[b]}: \")\n",
        "        c = int(input(\"Third condition: \"))\n",
        "        r = input(f\"Which {d[c]}: \")\n",
        "        d = int(input(\"Fourth condition: \"))\n",
        "        s = input(f\"Which {d[d]}: \")\n",
        "        e = int(input(\"Fifth condition: \"))\n",
        "        t = input(f\"Which {d[e]}: \")\n",
        "        print(df.loc[(df[d[a]]==p) & (df[d[b]]==q) & (df[d[c]]==r) & (df[d[d]]==s) & (df[d[e]]==t)])\n",
        "    else:\n",
        "        print(\"Invalid Choice!!....Please Choose again: \")\n",
        "        search_condi()"
      ],
      "execution_count": null,
      "outputs": []
    },
    {
      "cell_type": "code",
      "metadata": {
        "id": "0tKYHHy9C3WE"
      },
      "source": [
        "# def graph():\n",
        "#     print(\"Which Graph you want to plot?\")\n",
        "#     print(\"\\t1.Pie Chart\\t2.Line Graph\\n\\t3.Bar Graph\")\n",
        "#     choice = int(input(\"Your Choice: \"))\n",
        "\n",
        "#     if(choice==1):\n",
        "#         pie()\n",
        "#     elif(choice==2):\n",
        "#         line()\n",
        "#     elif(choice==3):\n",
        "#         bar()\n",
        "#     else:\n",
        "#         print(\"Invalid Choice!!....Please Choose again: \")\n",
        "#         graph()"
      ],
      "execution_count": null,
      "outputs": []
    },
    {
      "cell_type": "code",
      "metadata": {
        "id": "RqlfArsXC3WF"
      },
      "source": [
        "def pie():\n",
        "    global lbl\n",
        "    lbl = []\n",
        "    flag =1\n",
        "    print(\"Which one: \")\n",
        "    print(\"\\t1.Gender\\t2.Religion\\n\\t3.Branch\\t4.Semester\\n\\t5.Hostel\\t6.State\")\n",
        "    choice = int(input(\"Your Choice: \"))\n",
        "\n",
        "    if(choice==1):\n",
        "        temp = \"Gender\"\n",
        "        lbl =['MALE', 'FEMALE']\n",
        "    elif(choice==2):\n",
        "        temp = \"Religion\"\n",
        "        lbl=['HINDU', 'MUSLIM', 'CHRISTAN', 'SIKHISM', 'SINDHI', 'JAINISM']\n",
        "    elif(choice==3):\n",
        "        temp= \"Branch\"\n",
        "        lbl= ['CSE', 'AIML', 'CLOUD COMPUTING', 'AERONAUTICAL', 'GRAPHIC AND VISUAL', 'BCA', 'BA.LLB', 'MBA', 'BBA', 'BCS']\n",
        "    elif(choice==4):\n",
        "        temp= \"Semester\"\n",
        "        lbl = ['1st', '2nd', '3rd', '4th', '5th', '6th']\n",
        "    elif(choice==5):\n",
        "        temp = \"Hostel\"\n",
        "        lbl = ['ZAKIR-A', 'ZAKIR-B', 'NC-1', 'NC-2', 'NC-3', 'LC-1', 'LC-2', 'SUKHNA', 'TAGORE', 'DAY SCHOLAR']\n",
        "    elif(choice==6):\n",
        "        temp = \"State\"\n",
        "        lbl = ['UP', 'BR', 'HR', 'PB', 'JK', 'CHD', 'HP', 'Paris']\n",
        "    else:\n",
        "        flag=0\n",
        "        print(\"Invalid Choice!!....Please Choose again: \")\n",
        "        pie()\n",
        "    if(flag==1):\n",
        "        data =[]\n",
        "        for i in range(len(lbl)):\n",
        "            data.append(df[temp.upper()].value_counts()[lbl[i]])\n",
        "        \n",
        "        plt.pie(data, labels=lbl, autopct= '%1.f%%')\n",
        "        plt.axis('equal')\n",
        "        plt.title(f'{temp} pie chart')\n",
        "        plt.legend(loc='upper right',fontsize='large', bbox_to_anchor=(1.5,1,0,0))\n",
        "        plt.show()"
      ],
      "execution_count": null,
      "outputs": []
    },
    {
      "cell_type": "code",
      "metadata": {
        "id": "WYXLgybRC3WF"
      },
      "source": [
        "#def line():"
      ],
      "execution_count": null,
      "outputs": []
    },
    {
      "cell_type": "code",
      "metadata": {
        "id": "P9dZtilpC3WG"
      },
      "source": [
        "#def bar():"
      ],
      "execution_count": null,
      "outputs": []
    },
    {
      "cell_type": "code",
      "metadata": {
        "id": "VOANuLW7C3WH"
      },
      "source": [
        "def add_info():\n",
        "    try:\n",
        "        a = input(\"Enter name of student: \").title()\n",
        "        b = input(\"Enter gender: \").upper()\n",
        "        c = input(\"Enter UID: \").upper()\n",
        "        d = input(\"Enter DOB: \")\n",
        "        e = input(\"Enter Religion: \").upper()\n",
        "        f = input(\"Enter Branch: \").upper()\n",
        "        g = input(\"Enter Section: \")\n",
        "        h = input(\"Enter Semester: \").lower()\n",
        "        i = input(\"Enter Hostel: \").upper()\n",
        "        j = input(\"Enter Room Number: \")\n",
        "        k = input(\"Enter Phone Number: \")\n",
        "        l = input(\"Enter Email: \").lower()\n",
        "        m = input(\"Enter Address: \").upper()\n",
        "        n = input(\"Enter State: \").upper()\n",
        "        lst = [a,b,c,d,e,f,g,h,i,j,k,l,m,n]\n",
        "        \n",
        "        with open('CU.csv', 'a') as f_obj:\n",
        "            f_obj.write(\"\\n\")\n",
        "            w_obj = writer(f_obj)\n",
        "            w_obj.writerow(lst)\n",
        "\n",
        "            f_obj.close()\n",
        "    except:\n",
        "        print(\"Invalid Input!...Enter info again\")\n",
        "        add_info()"
      ],
      "execution_count": null,
      "outputs": []
    },
    {
      "cell_type": "code",
      "metadata": {
        "colab": {
          "base_uri": "https://localhost:8080/"
        },
        "id": "tTGJ7W1TC3WH",
        "outputId": "fe4f230f-5e4d-42ed-c61f-7133584ddfa4"
      },
      "source": [
        "def main():\n",
        "    global df\n",
        "    intro()\n",
        "    print(\"What you want to do?\")\n",
        "    choice = int(input())\n",
        "\n",
        "    if(choice==1):\n",
        "        search()\n",
        "    elif(choice==2):\n",
        "        search_condi()\n",
        "    elif(choice==3):\n",
        "        pie()\n",
        "    elif(choice==4):\n",
        "        add_info()\n",
        "        df = pd.read_csv(\"CU.csv\")\n",
        "    elif(choice==5):\n",
        "        print(df)\n",
        "    else:\n",
        "        print(\"Invalid Choice!!....Please Choose again\\n\\n\")\n",
        "        main()\n",
        "\n",
        "main()"
      ],
      "execution_count": null,
      "outputs": [
        {
          "output_type": "stream",
          "name": "stdout",
          "text": [
            " \t || CU Student Management System ||\n",
            "\n",
            "\t1.Search\t2.Search by condition\n",
            "\t3.Graph\t\t4.Add information\n",
            "\t5.View All\n",
            "What you want to do?\n",
            "5\n",
            "Empty DataFrame\n",
            "Columns: [Test Student, MALE, 21BCSXXXX, XX/XX/XX, HINDU, CSE, 201, 1st, ZAKIR-A, 402, +91703300XXXX, example@gmail.com, MOHALI, PB, PUNJAB]\n",
            "Index: []\n"
          ]
        }
      ]
    }
  ]
}